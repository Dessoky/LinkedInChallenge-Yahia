{
 "cells": [
  {
   "cell_type": "code",
   "execution_count": 1,
   "metadata": {},
   "outputs": [],
   "source": [
    "import pandas as pd"
   ]
  },
  {
   "cell_type": "code",
   "execution_count": 2,
   "metadata": {},
   "outputs": [],
   "source": [
    "raw_data = pd.read_excel('My port\\MyPoert AUG sheet1.xlsx', sheet_name=None)"
   ]
  },
  {
   "cell_type": "code",
   "execution_count": 3,
   "metadata": {},
   "outputs": [
    {
     "data": {
      "text/plain": [
       "dict_keys(['Reunion', 'Paramaribo', 'Isle of Man', 'San Marino', 'Majuro', 'Guyana', 'Saint Kitts and Nevis', 'Guernsey', 'Cayman Islands', 'Dominica', 'Fiji', 'Greenland', 'Turks and Caicos Islands'])"
      ]
     },
     "execution_count": 3,
     "metadata": {},
     "output_type": "execute_result"
    }
   ],
   "source": [
    "raw_data.keys()"
   ]
  },
  {
   "cell_type": "code",
   "execution_count": 4,
   "metadata": {},
   "outputs": [],
   "source": [
    "all_dfs_list = []\n",
    "for dataframe in raw_data.keys():\n",
    "    raw_data[dataframe] = raw_data[dataframe].iloc[:, :2]\n",
    "    raw_data[dataframe].columns = [\"Trip\", \"Price Offer\"]\n",
    "    raw_data[dataframe]['Type'] = dataframe\n",
    "    all_dfs_list.append(raw_data[dataframe])"
   ]
  },
  {
   "cell_type": "code",
   "execution_count": 5,
   "metadata": {},
   "outputs": [],
   "source": [
    "df = pd.concat(all_dfs_list, ignore_index=True)"
   ]
  },
  {
   "cell_type": "code",
   "execution_count": 6,
   "metadata": {},
   "outputs": [],
   "source": [
    "df.dropna(inplace=True)"
   ]
  },
  {
   "cell_type": "code",
   "execution_count": 7,
   "metadata": {},
   "outputs": [],
   "source": [
    "df['Trip'] = df['Trip'].str.upper()\n",
    "df['Price Offer'] = df['Price Offer'].str.upper()"
   ]
  },
  {
   "cell_type": "code",
   "execution_count": 11,
   "metadata": {},
   "outputs": [],
   "source": [
    "df['Price Offer'] = df['Price Offer'].str.replace(\"\\n\", \" \")"
   ]
  },
  {
   "cell_type": "code",
   "execution_count": 12,
   "metadata": {},
   "outputs": [
    {
     "data": {
      "text/html": [
       "<div>\n",
       "<style scoped>\n",
       "    .dataframe tbody tr th:only-of-type {\n",
       "        vertical-align: middle;\n",
       "    }\n",
       "\n",
       "    .dataframe tbody tr th {\n",
       "        vertical-align: top;\n",
       "    }\n",
       "\n",
       "    .dataframe thead th {\n",
       "        text-align: right;\n",
       "    }\n",
       "</style>\n",
       "<table border=\"1\" class=\"dataframe\">\n",
       "  <thead>\n",
       "    <tr style=\"text-align: right;\">\n",
       "      <th></th>\n",
       "      <th>Trip</th>\n",
       "      <th>Price Offer</th>\n",
       "      <th>Type</th>\n",
       "    </tr>\n",
       "  </thead>\n",
       "  <tbody>\n",
       "    <tr>\n",
       "      <th>0</th>\n",
       "      <td>FROM FREDERIKSHAVN TO LIEPAJA</td>\n",
       "      <td>TRIP: ONE WAY PRICE STARTS FROM:EUR  3306</td>\n",
       "      <td>Reunion</td>\n",
       "    </tr>\n",
       "    <tr>\n",
       "      <th>1</th>\n",
       "      <td>FROM EMDEN TO FOS-SUR-MER</td>\n",
       "      <td>TRIP:ONE WAY PRICE START FROM :EUR  6363</td>\n",
       "      <td>Reunion</td>\n",
       "    </tr>\n",
       "    <tr>\n",
       "      <th>3</th>\n",
       "      <td>FROM ZEEBRUGGE  TO BENSERSIEL</td>\n",
       "      <td>TRIP:ONE WAY PRICE START FROM :EUR   3666</td>\n",
       "      <td>Reunion</td>\n",
       "    </tr>\n",
       "    <tr>\n",
       "      <th>5</th>\n",
       "      <td>FROM EMDAN TO SAGUNTO</td>\n",
       "      <td>TRIP:ONE WAY PRICE START FROM :EUR   6166</td>\n",
       "      <td>Reunion</td>\n",
       "    </tr>\n",
       "    <tr>\n",
       "      <th>7</th>\n",
       "      <td>FROM EMDAN TO MILAZZO</td>\n",
       "      <td>TRIP:ONE WAY PRICE START FROM :EUR   3161</td>\n",
       "      <td>Reunion</td>\n",
       "    </tr>\n",
       "    <tr>\n",
       "      <th>...</th>\n",
       "      <td>...</td>\n",
       "      <td>...</td>\n",
       "      <td>...</td>\n",
       "    </tr>\n",
       "    <tr>\n",
       "      <th>339</th>\n",
       "      <td>FROM OOSTENDE TO FREDERIKSHAVN</td>\n",
       "      <td>TRIP:ONE WAY PRICE START FROM :RSD 66636</td>\n",
       "      <td>Turks and Caicos Islands</td>\n",
       "    </tr>\n",
       "    <tr>\n",
       "      <th>341</th>\n",
       "      <td>FROM OOSTENDE TO ZEEBRUGGE</td>\n",
       "      <td>TRIP:ONE WAY PRICE START FROM :RSD 66636</td>\n",
       "      <td>Turks and Caicos Islands</td>\n",
       "    </tr>\n",
       "    <tr>\n",
       "      <th>343</th>\n",
       "      <td>FROM OOSTENDE TO  NORDERNEY</td>\n",
       "      <td>TRIP:ONE WAY PRICE START FROM :RSD 3063</td>\n",
       "      <td>Turks and Caicos Islands</td>\n",
       "    </tr>\n",
       "    <tr>\n",
       "      <th>345</th>\n",
       "      <td>FROM OOSTENDE TO PUTTGARDEN</td>\n",
       "      <td>TRIP:ONE WAY PRICE START FROM :RSD 61333</td>\n",
       "      <td>Turks and Caicos Islands</td>\n",
       "    </tr>\n",
       "    <tr>\n",
       "      <th>347</th>\n",
       "      <td>FROM OOSTENDE TO  CASTELLÓN</td>\n",
       "      <td>TRIP:ONE WAY PRICE START FROM :RSD 3366</td>\n",
       "      <td>Turks and Caicos Islands</td>\n",
       "    </tr>\n",
       "  </tbody>\n",
       "</table>\n",
       "<p>180 rows × 3 columns</p>\n",
       "</div>"
      ],
      "text/plain": [
       "                                Trip  \\\n",
       "0      FROM FREDERIKSHAVN TO LIEPAJA   \n",
       "1          FROM EMDEN TO FOS-SUR-MER   \n",
       "3      FROM ZEEBRUGGE  TO BENSERSIEL   \n",
       "5              FROM EMDAN TO SAGUNTO   \n",
       "7              FROM EMDAN TO MILAZZO   \n",
       "..                               ...   \n",
       "339  FROM OOSTENDE TO FREDERIKSHAVN    \n",
       "341     FROM OOSTENDE TO ZEEBRUGGE     \n",
       "343      FROM OOSTENDE TO  NORDERNEY   \n",
       "345      FROM OOSTENDE TO PUTTGARDEN   \n",
       "347      FROM OOSTENDE TO  CASTELLÓN   \n",
       "\n",
       "                                    Price Offer                      Type  \n",
       "0    TRIP: ONE WAY PRICE STARTS FROM:EUR  3306                    Reunion  \n",
       "1      TRIP:ONE WAY PRICE START FROM :EUR  6363                   Reunion  \n",
       "3     TRIP:ONE WAY PRICE START FROM :EUR   3666                   Reunion  \n",
       "5     TRIP:ONE WAY PRICE START FROM :EUR   6166                   Reunion  \n",
       "7     TRIP:ONE WAY PRICE START FROM :EUR   3161                   Reunion  \n",
       "..                                          ...                       ...  \n",
       "339    TRIP:ONE WAY PRICE START FROM :RSD 66636  Turks and Caicos Islands  \n",
       "341    TRIP:ONE WAY PRICE START FROM :RSD 66636  Turks and Caicos Islands  \n",
       "343     TRIP:ONE WAY PRICE START FROM :RSD 3063  Turks and Caicos Islands  \n",
       "345    TRIP:ONE WAY PRICE START FROM :RSD 61333  Turks and Caicos Islands  \n",
       "347     TRIP:ONE WAY PRICE START FROM :RSD 3366  Turks and Caicos Islands  \n",
       "\n",
       "[180 rows x 3 columns]"
      ]
     },
     "execution_count": 12,
     "metadata": {},
     "output_type": "execute_result"
    }
   ],
   "source": [
    "df"
   ]
  }
 ],
 "metadata": {
  "kernelspec": {
   "display_name": "Python 3",
   "language": "python",
   "name": "python3"
  },
  "language_info": {
   "codemirror_mode": {
    "name": "ipython",
    "version": 3
   },
   "file_extension": ".py",
   "mimetype": "text/x-python",
   "name": "python",
   "nbconvert_exporter": "python",
   "pygments_lexer": "ipython3",
   "version": "3.10.7"
  }
 },
 "nbformat": 4,
 "nbformat_minor": 2
}
